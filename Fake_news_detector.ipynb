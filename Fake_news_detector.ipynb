{
 "cells": [
  {
   "cell_type": "code",
   "execution_count": 350,
   "metadata": {},
   "outputs": [],
   "source": [
    "# Import libraries\n",
    "import numpy as np\n",
    "import pandas as pd\n",
    "import seaborn as sns\n",
    "import matplotlib.pyplot as plt\n",
    "from sklearn.linear_model import LogisticRegression\n",
    "from sklearn.tree import DecisionTreeClassifier\n",
    "from sklearn.model_selection import train_test_split\n",
    "from sklearn.metrics import accuracy_score\n",
    "from sklearn.metrics import classification_report\n",
    "import re\n",
    "import string"
   ]
  },
  {
   "cell_type": "code",
   "execution_count": 351,
   "metadata": {},
   "outputs": [],
   "source": [
    "# Read the datasets\n",
    "true_df=pd.read_csv('True.csv')\n",
    "fake_df=pd.read_csv('Fake.csv')"
   ]
  },
  {
   "cell_type": "code",
   "execution_count": 352,
   "metadata": {},
   "outputs": [
    {
     "data": {
      "text/html": [
       "<div>\n",
       "<style scoped>\n",
       "    .dataframe tbody tr th:only-of-type {\n",
       "        vertical-align: middle;\n",
       "    }\n",
       "\n",
       "    .dataframe tbody tr th {\n",
       "        vertical-align: top;\n",
       "    }\n",
       "\n",
       "    .dataframe thead th {\n",
       "        text-align: right;\n",
       "    }\n",
       "</style>\n",
       "<table border=\"1\" class=\"dataframe\">\n",
       "  <thead>\n",
       "    <tr style=\"text-align: right;\">\n",
       "      <th></th>\n",
       "      <th>title</th>\n",
       "      <th>text</th>\n",
       "      <th>subject</th>\n",
       "      <th>date</th>\n",
       "    </tr>\n",
       "  </thead>\n",
       "  <tbody>\n",
       "    <tr>\n",
       "      <th>0</th>\n",
       "      <td>As U.S. budget fight looms, Republicans flip t...</td>\n",
       "      <td>WASHINGTON (Reuters) - The head of a conservat...</td>\n",
       "      <td>politicsNews</td>\n",
       "      <td>December 31, 2017</td>\n",
       "    </tr>\n",
       "    <tr>\n",
       "      <th>1</th>\n",
       "      <td>U.S. military to accept transgender recruits o...</td>\n",
       "      <td>WASHINGTON (Reuters) - Transgender people will...</td>\n",
       "      <td>politicsNews</td>\n",
       "      <td>December 29, 2017</td>\n",
       "    </tr>\n",
       "    <tr>\n",
       "      <th>2</th>\n",
       "      <td>Senior U.S. Republican senator: 'Let Mr. Muell...</td>\n",
       "      <td>WASHINGTON (Reuters) - The special counsel inv...</td>\n",
       "      <td>politicsNews</td>\n",
       "      <td>December 31, 2017</td>\n",
       "    </tr>\n",
       "    <tr>\n",
       "      <th>3</th>\n",
       "      <td>FBI Russia probe helped by Australian diplomat...</td>\n",
       "      <td>WASHINGTON (Reuters) - Trump campaign adviser ...</td>\n",
       "      <td>politicsNews</td>\n",
       "      <td>December 30, 2017</td>\n",
       "    </tr>\n",
       "    <tr>\n",
       "      <th>4</th>\n",
       "      <td>Trump wants Postal Service to charge 'much mor...</td>\n",
       "      <td>SEATTLE/WASHINGTON (Reuters) - President Donal...</td>\n",
       "      <td>politicsNews</td>\n",
       "      <td>December 29, 2017</td>\n",
       "    </tr>\n",
       "  </tbody>\n",
       "</table>\n",
       "</div>"
      ],
      "text/plain": [
       "                                               title  \\\n",
       "0  As U.S. budget fight looms, Republicans flip t...   \n",
       "1  U.S. military to accept transgender recruits o...   \n",
       "2  Senior U.S. Republican senator: 'Let Mr. Muell...   \n",
       "3  FBI Russia probe helped by Australian diplomat...   \n",
       "4  Trump wants Postal Service to charge 'much mor...   \n",
       "\n",
       "                                                text       subject  \\\n",
       "0  WASHINGTON (Reuters) - The head of a conservat...  politicsNews   \n",
       "1  WASHINGTON (Reuters) - Transgender people will...  politicsNews   \n",
       "2  WASHINGTON (Reuters) - The special counsel inv...  politicsNews   \n",
       "3  WASHINGTON (Reuters) - Trump campaign adviser ...  politicsNews   \n",
       "4  SEATTLE/WASHINGTON (Reuters) - President Donal...  politicsNews   \n",
       "\n",
       "                 date  \n",
       "0  December 31, 2017   \n",
       "1  December 29, 2017   \n",
       "2  December 31, 2017   \n",
       "3  December 30, 2017   \n",
       "4  December 29, 2017   "
      ]
     },
     "execution_count": 352,
     "metadata": {},
     "output_type": "execute_result"
    }
   ],
   "source": [
    "# Check the datasets\n",
    "true_df.head()"
   ]
  },
  {
   "cell_type": "code",
   "execution_count": 353,
   "metadata": {},
   "outputs": [
    {
     "data": {
      "text/plain": [
       "subject\n",
       "politicsNews    11272\n",
       "worldnews       10145\n",
       "Name: count, dtype: int64"
      ]
     },
     "execution_count": 353,
     "metadata": {},
     "output_type": "execute_result"
    }
   ],
   "source": [
    "true_df.subject.value_counts()"
   ]
  },
  {
   "cell_type": "code",
   "execution_count": 354,
   "metadata": {},
   "outputs": [
    {
     "data": {
      "text/html": [
       "<div>\n",
       "<style scoped>\n",
       "    .dataframe tbody tr th:only-of-type {\n",
       "        vertical-align: middle;\n",
       "    }\n",
       "\n",
       "    .dataframe tbody tr th {\n",
       "        vertical-align: top;\n",
       "    }\n",
       "\n",
       "    .dataframe thead th {\n",
       "        text-align: right;\n",
       "    }\n",
       "</style>\n",
       "<table border=\"1\" class=\"dataframe\">\n",
       "  <thead>\n",
       "    <tr style=\"text-align: right;\">\n",
       "      <th></th>\n",
       "      <th>title</th>\n",
       "      <th>text</th>\n",
       "      <th>subject</th>\n",
       "      <th>date</th>\n",
       "    </tr>\n",
       "  </thead>\n",
       "  <tbody>\n",
       "    <tr>\n",
       "      <th>0</th>\n",
       "      <td>Donald Trump Sends Out Embarrassing New Year’...</td>\n",
       "      <td>Donald Trump just couldn t wish all Americans ...</td>\n",
       "      <td>News</td>\n",
       "      <td>December 31, 2017</td>\n",
       "    </tr>\n",
       "    <tr>\n",
       "      <th>1</th>\n",
       "      <td>Drunk Bragging Trump Staffer Started Russian ...</td>\n",
       "      <td>House Intelligence Committee Chairman Devin Nu...</td>\n",
       "      <td>News</td>\n",
       "      <td>December 31, 2017</td>\n",
       "    </tr>\n",
       "    <tr>\n",
       "      <th>2</th>\n",
       "      <td>Sheriff David Clarke Becomes An Internet Joke...</td>\n",
       "      <td>On Friday, it was revealed that former Milwauk...</td>\n",
       "      <td>News</td>\n",
       "      <td>December 30, 2017</td>\n",
       "    </tr>\n",
       "    <tr>\n",
       "      <th>3</th>\n",
       "      <td>Trump Is So Obsessed He Even Has Obama’s Name...</td>\n",
       "      <td>On Christmas day, Donald Trump announced that ...</td>\n",
       "      <td>News</td>\n",
       "      <td>December 29, 2017</td>\n",
       "    </tr>\n",
       "    <tr>\n",
       "      <th>4</th>\n",
       "      <td>Pope Francis Just Called Out Donald Trump Dur...</td>\n",
       "      <td>Pope Francis used his annual Christmas Day mes...</td>\n",
       "      <td>News</td>\n",
       "      <td>December 25, 2017</td>\n",
       "    </tr>\n",
       "  </tbody>\n",
       "</table>\n",
       "</div>"
      ],
      "text/plain": [
       "                                               title  \\\n",
       "0   Donald Trump Sends Out Embarrassing New Year’...   \n",
       "1   Drunk Bragging Trump Staffer Started Russian ...   \n",
       "2   Sheriff David Clarke Becomes An Internet Joke...   \n",
       "3   Trump Is So Obsessed He Even Has Obama’s Name...   \n",
       "4   Pope Francis Just Called Out Donald Trump Dur...   \n",
       "\n",
       "                                                text subject  \\\n",
       "0  Donald Trump just couldn t wish all Americans ...    News   \n",
       "1  House Intelligence Committee Chairman Devin Nu...    News   \n",
       "2  On Friday, it was revealed that former Milwauk...    News   \n",
       "3  On Christmas day, Donald Trump announced that ...    News   \n",
       "4  Pope Francis used his annual Christmas Day mes...    News   \n",
       "\n",
       "                date  \n",
       "0  December 31, 2017  \n",
       "1  December 31, 2017  \n",
       "2  December 30, 2017  \n",
       "3  December 29, 2017  \n",
       "4  December 25, 2017  "
      ]
     },
     "execution_count": 354,
     "metadata": {},
     "output_type": "execute_result"
    }
   ],
   "source": [
    "fake_df.head()\n"
   ]
  },
  {
   "cell_type": "code",
   "execution_count": 355,
   "metadata": {},
   "outputs": [
    {
     "data": {
      "text/plain": [
       "subject\n",
       "News               9050\n",
       "politics           6841\n",
       "left-news          4459\n",
       "Government News    1570\n",
       "US_News             783\n",
       "Middle-east         778\n",
       "Name: count, dtype: int64"
      ]
     },
     "execution_count": 355,
     "metadata": {},
     "output_type": "execute_result"
    }
   ],
   "source": [
    "fake_df.subject.value_counts()"
   ]
  },
  {
   "cell_type": "code",
   "execution_count": 356,
   "metadata": {},
   "outputs": [],
   "source": [
    "# Classify the news into two categories 0 for true, 1 for fake\n",
    "true_df['class']=0\n",
    "fake_df['class']=1"
   ]
  },
  {
   "cell_type": "code",
   "execution_count": 357,
   "metadata": {},
   "outputs": [
    {
     "data": {
      "text/html": [
       "<div>\n",
       "<style scoped>\n",
       "    .dataframe tbody tr th:only-of-type {\n",
       "        vertical-align: middle;\n",
       "    }\n",
       "\n",
       "    .dataframe tbody tr th {\n",
       "        vertical-align: top;\n",
       "    }\n",
       "\n",
       "    .dataframe thead th {\n",
       "        text-align: right;\n",
       "    }\n",
       "</style>\n",
       "<table border=\"1\" class=\"dataframe\">\n",
       "  <thead>\n",
       "    <tr style=\"text-align: right;\">\n",
       "      <th></th>\n",
       "      <th>title</th>\n",
       "      <th>text</th>\n",
       "      <th>subject</th>\n",
       "      <th>date</th>\n",
       "      <th>class</th>\n",
       "    </tr>\n",
       "  </thead>\n",
       "  <tbody>\n",
       "    <tr>\n",
       "      <th>0</th>\n",
       "      <td>As U.S. budget fight looms, Republicans flip t...</td>\n",
       "      <td>WASHINGTON (Reuters) - The head of a conservat...</td>\n",
       "      <td>politicsNews</td>\n",
       "      <td>December 31, 2017</td>\n",
       "      <td>0</td>\n",
       "    </tr>\n",
       "    <tr>\n",
       "      <th>1</th>\n",
       "      <td>U.S. military to accept transgender recruits o...</td>\n",
       "      <td>WASHINGTON (Reuters) - Transgender people will...</td>\n",
       "      <td>politicsNews</td>\n",
       "      <td>December 29, 2017</td>\n",
       "      <td>0</td>\n",
       "    </tr>\n",
       "    <tr>\n",
       "      <th>2</th>\n",
       "      <td>Senior U.S. Republican senator: 'Let Mr. Muell...</td>\n",
       "      <td>WASHINGTON (Reuters) - The special counsel inv...</td>\n",
       "      <td>politicsNews</td>\n",
       "      <td>December 31, 2017</td>\n",
       "      <td>0</td>\n",
       "    </tr>\n",
       "    <tr>\n",
       "      <th>3</th>\n",
       "      <td>FBI Russia probe helped by Australian diplomat...</td>\n",
       "      <td>WASHINGTON (Reuters) - Trump campaign adviser ...</td>\n",
       "      <td>politicsNews</td>\n",
       "      <td>December 30, 2017</td>\n",
       "      <td>0</td>\n",
       "    </tr>\n",
       "    <tr>\n",
       "      <th>4</th>\n",
       "      <td>Trump wants Postal Service to charge 'much mor...</td>\n",
       "      <td>SEATTLE/WASHINGTON (Reuters) - President Donal...</td>\n",
       "      <td>politicsNews</td>\n",
       "      <td>December 29, 2017</td>\n",
       "      <td>0</td>\n",
       "    </tr>\n",
       "  </tbody>\n",
       "</table>\n",
       "</div>"
      ],
      "text/plain": [
       "                                               title  \\\n",
       "0  As U.S. budget fight looms, Republicans flip t...   \n",
       "1  U.S. military to accept transgender recruits o...   \n",
       "2  Senior U.S. Republican senator: 'Let Mr. Muell...   \n",
       "3  FBI Russia probe helped by Australian diplomat...   \n",
       "4  Trump wants Postal Service to charge 'much mor...   \n",
       "\n",
       "                                                text       subject  \\\n",
       "0  WASHINGTON (Reuters) - The head of a conservat...  politicsNews   \n",
       "1  WASHINGTON (Reuters) - Transgender people will...  politicsNews   \n",
       "2  WASHINGTON (Reuters) - The special counsel inv...  politicsNews   \n",
       "3  WASHINGTON (Reuters) - Trump campaign adviser ...  politicsNews   \n",
       "4  SEATTLE/WASHINGTON (Reuters) - President Donal...  politicsNews   \n",
       "\n",
       "                 date  class  \n",
       "0  December 31, 2017       0  \n",
       "1  December 29, 2017       0  \n",
       "2  December 31, 2017       0  \n",
       "3  December 30, 2017       0  \n",
       "4  December 29, 2017       0  "
      ]
     },
     "execution_count": 357,
     "metadata": {},
     "output_type": "execute_result"
    }
   ],
   "source": [
    "# Merge the two dataframes\n",
    "df=pd.concat([true_df,fake_df]).reset_index(drop=True)\n",
    "df.head()"
   ]
  },
  {
   "cell_type": "code",
   "execution_count": 358,
   "metadata": {},
   "outputs": [
    {
     "data": {
      "image/png": "[encoded data removed]",
      "text/plain": [
       "<Figure size 640x480 with 1 Axes>"
      ]
     },
     "metadata": {},
     "output_type": "display_data"
    }
   ],
   "source": [
    "# Create a countplot to see the class distribution\n",
    "sns.countplot(data=df,x='class')\n",
    "plt.title('Class Distribution')\n",
    "plt.show()"
   ]
  },
  {
   "cell_type": "markdown",
   "metadata": {},
   "source": [
    "DATA CLEANING"
   ]
  },
  {
   "cell_type": "code",
   "execution_count": 359,
   "metadata": {},
   "outputs": [],
   "source": [
    "def clean_text(text):\n",
    "    # Remove URLS\n",
    "    text=re.sub(r'http\\S+|www\\S+|https\\S+','',text, flags=re.MULTILINE)\n",
    "    # Remove HTML tags\n",
    "    text=re.sub(r'<.*?>','',text)\n",
    "    # Remove non-alphabetic characters\n",
    "    text=re.sub(r'[^a-zA-Z]',' ',text)\n",
    "    #Convert the whole text to lowercase\n",
    "    text=text.lower()\n",
    "    # Remove extra blank spaces\n",
    "    text=re.sub(r'\\s+',' ',text).strip()\n",
    "    return text\n",
    "\n",
    "# Apply the cleaning text function to the dataframe\n",
    "df['text']=df['text'].apply(clean_text)"
   ]
  },
  {
   "cell_type": "code",
   "execution_count": 360,
   "metadata": {},
   "outputs": [],
   "source": [
    "# Only keep necessary columns\n",
    "df=df[['text','class']]"
   ]
  },
  {
   "cell_type": "code",
   "execution_count": 361,
   "metadata": {},
   "outputs": [
    {
     "data": {
      "text/plain": [
       "text     0\n",
       "class    0\n",
       "dtype: int64"
      ]
     },
     "execution_count": 361,
     "metadata": {},
     "output_type": "execute_result"
    }
   ],
   "source": [
    "# Check if there is any missing data\n",
    "df.isna().sum()"
   ]
  },
  {
   "cell_type": "code",
   "execution_count": 362,
   "metadata": {},
   "outputs": [
    {
     "name": "stdout",
     "output_type": "stream",
     "text": [
      "Indices of rows: [8970, 30775, 32340, 32458, 32607, 32642, 32653, 32658, 32664, 32666, 32668, 32684, 32685, 32700, 32701, 32702, 32703, 32705, 32706, 32707, 32709, 32712, 32713, 32718, 32720, 32721, 32722, 32726, 32731, 32732, 32733, 32734, 32736, 32739, 32745, 32747, 32751, 32752, 32757, 32760, 32765, 32768, 32769, 32774, 32788, 32790, 32791, 32799, 32804, 32814, 32819, 32820, 32826, 32827, 32829, 32832, 32836, 32838, 32844, 32848, 32849, 32850, 32857, 32865, 32867, 32870, 32879, 32881, 32882, 32889, 32890, 32892, 32895, 32906, 32908, 32909, 32910, 32911, 32918, 32922, 32924, 32930, 32937, 32948, 32949, 32950, 32955, 32959, 32964, 32965, 32966, 32968, 32976, 32980, 32987, 32998, 33002, 33006, 33007, 33031, 33041, 33042, 33043, 33044, 33048, 33053, 33054, 33060, 33067, 33075, 33077, 33078, 33089, 33096, 33098, 33101, 33103, 33105, 33106, 33109, 33112, 33125, 33129, 33135, 33141, 33146, 33147, 33153, 33156, 33170, 33182, 33185, 33194, 33199, 33203, 33205, 33209, 33210, 33211, 33220, 33221, 33223, 33230, 33238, 33245, 33248, 33249, 33257, 33258, 33261, 33265, 33271, 33275, 33277, 33280, 33283, 33289, 33291, 33292, 33296, 33298, 33299, 33301, 33306, 33310, 33317, 33321, 33323, 33330, 33331, 33332, 33339, 33340, 33346, 33347, 33351, 33353, 33360, 33374, 33377, 33383, 33386, 33388, 33390, 33398, 33405, 33406, 33407, 33413, 33415, 33424, 33428, 33436, 33442, 33443, 33445, 33446, 33455, 33456, 33466, 33472, 33481, 33484, 33486, 33487, 33489, 33491, 33493, 33496, 33505, 33514, 33515, 33517, 33525, 33526, 33528, 33531, 33533, 33534, 33535, 33537, 33539, 33550, 33553, 33554, 33555, 33556, 33558, 33561, 33565, 33567, 33573, 33577, 33578, 33580, 33600, 33609, 33614, 33620, 33625, 33627, 33634, 33635, 33641, 33642, 33646, 33650, 33654, 33658, 33661, 33664, 33666, 33669, 33672, 33674, 33678, 33682, 33685, 33687, 33688, 33693, 33700, 33701, 33703, 33711, 33713, 33714, 33721, 33722, 33725, 33726, 33729, 33730, 33731, 33732, 33736, 33741, 33745, 33747, 33753, 33756, 33758, 33761, 33767, 33769, 33770, 33777, 33786, 33787, 33788, 33793, 33796, 33798, 33802, 33803, 33804, 33809, 33819, 33821, 33826, 33827, 33830, 33836, 33839, 33841, 33847, 33848, 33849, 33854, 33858, 33859, 33862, 33863, 33875, 33882, 33884, 33886, 33890, 33891, 33903, 33910, 33911, 33912, 33919, 33922, 33925, 33928, 33929, 33937, 33949, 33963, 33971, 33975, 33977, 33983, 33989, 33997, 34001, 34002, 34004, 34020, 34022, 34032, 34034, 34048, 34060, 34064, 34071, 34072, 34076, 34078, 34079, 34088, 34092, 34096, 34098, 34102, 34114, 34115, 34125, 34132, 34133, 34150, 34156, 34157, 34167, 34174, 34196, 34200, 34202, 34204, 34209, 34215, 34216, 34217, 34219, 34242, 34248, 34255, 34256, 34261, 34279, 34288, 34299, 34316, 34318, 34326, 34331, 34335, 34338, 34356, 34357, 34358, 34399, 34402, 34409, 34422, 34425, 34431, 34434, 34447, 34454, 34461, 34462, 34466, 34467, 34477, 34486, 34490, 34497, 34503, 34505, 34510, 34515, 34525, 34535, 34539, 34891, 35031, 35083, 35380, 35503, 35699, 35706, 35737, 35833, 36780, 36924, 36925, 37014, 37056, 37058, 37059, 37077, 37078, 37081, 37083, 37090, 37091, 37099, 37110, 37115, 37117, 37122, 37126, 37127, 37135, 37136, 37145, 37164, 37166, 37177, 37188, 37189, 37202, 37203, 37205, 37241, 37256, 37257, 37259, 37582, 37583, 37590, 37595, 37596, 37597, 37599, 37600, 37602, 37603, 37604, 37606, 37607, 37609, 37610, 37611, 37613, 37616, 37620, 37624, 37629, 37631, 37633, 37635, 37636, 37637, 37645, 37652, 37662, 37667, 37672, 37675, 37676, 37681, 37684, 37685, 37690, 37702, 37704, 37713, 37715, 37718, 37723, 37726, 37730, 37731, 37735, 37744, 37746, 37753, 37760, 37763, 37773, 37775, 37783, 37785, 37794, 37797, 37824, 37825, 37828, 37832, 37835, 37842, 38161, 38404, 38663, 38687, 38707, 38765, 38771, 38772, 38773, 38779, 38790, 38792, 38804, 38835, 38849, 38850, 40070, 40164, 40273, 40299, 40303, 40314, 40321, 40323, 40331, 40332, 40333, 40337, 40339, 40341, 40346, 40352, 40360, 40361, 40374, 40383, 40387, 40394, 40395, 40397, 40403, 40411, 40423, 40438, 40440, 40442, 40450, 40452, 40464, 40483, 40484, 40486, 40494, 40500, 40507, 40532, 40535, 40549, 40553, 40565, 40568, 40571, 40574, 40578, 40582, 40595, 40597, 40608, 40612, 40626, 40632, 40656, 40663, 40668, 40669, 40679, 40682, 40683, 40685, 40689, 40701, 40705, 40708, 40733, 40734, 40739, 40750, 40772, 40779, 40787, 40791, 40792, 40793, 40810, 40818, 40820, 40829, 40831, 40833, 40841, 40845, 40863, 40864, 40868, 40876, 40878, 40879, 40910, 40912, 40917, 40925, 40928, 40931, 40934, 40937, 40941, 40951, 40953, 40975, 40978, 40985, 40991, 41001, 41002, 41003, 41009, 41015, 41016, 41020, 41023, 41024, 41025, 41029, 41036, 41040, 41041, 41051, 41056, 41057, 41058, 41063, 41067, 41073, 41077, 41079, 41090, 41102, 41141, 41164, 41168, 41173, 41182, 41186, 41188, 41199, 41200, 41208, 41222, 41223, 41261, 41262, 41263, 41280, 41284, 41312, 41316, 41352, 41390, 41446, 41811, 42132, 42654, 43001, 43131, 43132, 43168, 43192, 43197, 43202, 43203, 43204, 43230, 43232, 43233, 43243, 43244, 43274, 43286, 43287, 43290]\n",
      "715 rows with blank space.\n"
     ]
    }
   ],
   "source": [
    "# Check if there are any blank spaces in the 'text' column\n",
    "blank_space=df.index[df['text'].str.strip()==''].tolist()\n",
    "\n",
    "print(f'Indices of rows: {blank_space}')\n",
    "# Print the number of blank rows and its indices, then remove them\n",
    "if blank_space:\n",
    "    print(f'{len(blank_space)} rows with blank space.')\n",
    "    df.drop(index=blank_space, inplace=True)\n",
    "\n",
    "# Reset index\n",
    "df.reset_index(drop=True, inplace=True)"
   ]
  },
  {
   "cell_type": "markdown",
   "metadata": {},
   "source": [
    "PROCESSING"
   ]
  },
  {
   "cell_type": "code",
   "execution_count": 363,
   "metadata": {},
   "outputs": [],
   "source": [
    "# Feature and label seperation\n",
    "X=df['text']\n",
    "y=df['class']"
   ]
  },
  {
   "cell_type": "code",
   "execution_count": 364,
   "metadata": {},
   "outputs": [],
   "source": [
    "# Train-test \n",
    "X_train,X_test,y_train,y_test=train_test_split(X,y,test_size=0.2, random_state=42)"
   ]
  },
  {
   "cell_type": "code",
   "execution_count": 365,
   "metadata": {},
   "outputs": [],
   "source": [
    "# Text vectorization\n",
    "from sklearn.feature_extraction.text import TfidfVectorizer\n",
    "vectorization=TfidfVectorizer()\n",
    "xv_train=vectorization.fit_transform(X_train)\n",
    "xv_test=vectorization.transform(X_test)"
   ]
  },
  {
   "cell_type": "code",
   "execution_count": 366,
   "metadata": {},
   "outputs": [
    {
     "name": "stdout",
     "output_type": "stream",
     "text": [
      "Accuracy score: 98.72128550413036 %\n",
      "              precision    recall  f1-score   support\n",
      "\n",
      "           0       0.99      0.99      0.99      4321\n",
      "           1       0.99      0.99      0.99      4516\n",
      "\n",
      "    accuracy                           0.99      8837\n",
      "   macro avg       0.99      0.99      0.99      8837\n",
      "weighted avg       0.99      0.99      0.99      8837\n",
      "\n"
     ]
    }
   ],
   "source": [
    "# Fit it to a Logistic Regression model\n",
    "LR=LogisticRegression()\n",
    "LR.fit(xv_train,y_train)\n",
    "\n",
    "# Predict and evaluate the accuracy of the model\n",
    "y_pred_lr=LR.predict(xv_test)\n",
    "\n",
    "accuracy=accuracy_score(y_test,y_pred_lr)\n",
    "print('Accuracy score:',accuracy*100,'%')\n",
    "\n",
    "print(classification_report(y_test,y_pred_lr))"
   ]
  },
  {
   "cell_type": "code",
   "execution_count": 367,
   "metadata": {},
   "outputs": [
    {
     "name": "stdout",
     "output_type": "stream",
     "text": [
      "Accuracy score: 99.68315039040398 %\n",
      "              precision    recall  f1-score   support\n",
      "\n",
      "           0       1.00      1.00      1.00      4321\n",
      "           1       1.00      1.00      1.00      4516\n",
      "\n",
      "    accuracy                           1.00      8837\n",
      "   macro avg       1.00      1.00      1.00      8837\n",
      "weighted avg       1.00      1.00      1.00      8837\n",
      "\n"
     ]
    }
   ],
   "source": [
    "# Fit it to a Decision Tree model\n",
    "DT=DecisionTreeClassifier()\n",
    "DT.fit(xv_train,y_train)\n",
    "y_pred_dt=DT.predict(xv_test)\n",
    "\n",
    "# Predict and evaluate the accuracy of the model\n",
    "accuracy=accuracy_score(y_test,y_pred_dt)\n",
    "print('Accuracy score:',accuracy*100,'%')\n",
    "\n",
    "print(classification_report(y_test,y_pred_dt))"
   ]
  },
  {
   "cell_type": "code",
   "execution_count": 368,
   "metadata": {},
   "outputs": [
    {
     "name": "stdout",
     "output_type": "stream",
     "text": [
      "LR model: Fake news.\n",
      "DT model: Fake news.\n"
     ]
    }
   ],
   "source": [
    "# Create a function which can predict whether the user-provided article is real or fake\n",
    "def pred_article(article_text):\n",
    "    # Clean text\n",
    "    cleaned_text=clean_text(article_text)\n",
    "\n",
    "    # Vectorize the user's text input\n",
    "    vectorized_text=vectorization.transform([cleaned_text])\n",
    "\n",
    "    # Predict using the Logistic Regression model\n",
    "    prediction_lr=LR.predict(vectorized_text)\n",
    "    result_lr= 'Real' if prediction_lr[0]==0 else 'Fake'\n",
    "\n",
    "    # Predict using the Decision Tree model\n",
    "    prediction_dt=DT.predict(vectorized_text)\n",
    "    result_dt= 'Real' if prediction_dt[0]==0 else 'Fake'\n",
    "\n",
    "    # Print the results\n",
    "    print(f'LR model: {result_lr} news.')\n",
    "    print(f'DT model: {result_dt} news.')\n",
    "\n",
    "# Ask for user's input\n",
    "user_article=input('Enter the article you want to analyze: ')\n",
    "pred_article(user_article)"
   ]
  }
 ],
 "metadata": {
  "kernelspec": {
   "display_name": "Python 3",
   "language": "python",
   "name": "python3"
  },
  "language_info": {
   "codemirror_mode": {
    "name": "ipython",
    "version": 3
   },
   "file_extension": ".py",
   "mimetype": "text/x-python",
   "name": "python",
   "nbconvert_exporter": "python",
   "pygments_lexer": "ipython3",
   "version": "3.8.9"
  }
 },
 "nbformat": 4,
 "nbformat_minor": 2
}
